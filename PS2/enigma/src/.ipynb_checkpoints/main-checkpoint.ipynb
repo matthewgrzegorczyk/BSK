{
 "cells": [
  {
   "cell_type": "code",
   "execution_count": 1,
   "metadata": {},
   "outputs": [],
   "source": [
    "from enigma.enigma import Enigma\n",
    "\n",
    "e = Enigma('GLG')\n",
    "\n",
    "e.elements[0].set_alphabet('AJDKSIRUXBLHWTMCQGZNPYFVOE')\n",
    "e.elements[1].set_alphabet('EKMFLGDQVZNTOWYHXUSPAIBRCJ')\n",
    "e.elements[2].set_alphabet('BDFHJLCPRTXVZNYEIWGAKMUSQO')"
   ]
  },
  {
   "cell_type": "code",
   "execution_count": 2,
   "metadata": {},
   "outputs": [
    {
     "name": "stdout",
     "output_type": "stream",
     "text": [
      "V\n",
      "D\n",
      "T\n",
      "O\n",
      "J\n",
      "M\n"
     ]
    },
    {
     "data": {
      "text/plain": [
       "'M'"
      ]
     },
     "execution_count": 2,
     "metadata": {},
     "output_type": "execute_result"
    }
   ],
   "source": [
    "e.encode('S')"
   ]
  },
  {
   "cell_type": "code",
   "execution_count": null,
   "metadata": {},
   "outputs": [],
   "source": []
  }
 ],
 "metadata": {
  "kernelspec": {
   "display_name": "Python 3",
   "language": "python",
   "name": "python3"
  },
  "language_info": {
   "codemirror_mode": {
    "name": "ipython",
    "version": 3
   },
   "file_extension": ".py",
   "mimetype": "text/x-python",
   "name": "python",
   "nbconvert_exporter": "python",
   "pygments_lexer": "ipython3",
   "version": "3.6.5"
  }
 },
 "nbformat": 4,
 "nbformat_minor": 1
}
